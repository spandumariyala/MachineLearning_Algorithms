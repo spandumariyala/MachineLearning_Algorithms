{
 "cells": [
  {
   "cell_type": "markdown",
   "metadata": {},
   "source": [
    "## Machine Learning\n",
    "\n",
    "- Machine learning is an application of artificial intelligence (AI) that provides systems the ability to automatically learn and improve from experience without being explicitly programmed.\n",
    "- Machine learning focuses on the development of computer programs that can access data and use it learn for themselves.\n",
    "\n",
    "###  3 Types Learnings\n",
    "- supervised learning(It contains inputs and outputs)\n",
    "- Unsupervised learning(Having only inputs data)\n",
    "- reinforcement learning(Learned based on experience)"
   ]
  },
  {
   "cell_type": "markdown",
   "metadata": {},
   "source": [
    "## Types of problems:\n",
    "#### 1. Prediction -->Numeric value or real value\n",
    "#### 2. Classification-->Categorical//Most of the real time cases use this algorithms\n",
    "- Text classification\n",
    "- Image classification\n",
    "- Neural classs=ification\n",
    "#### 3. Clustering-->Similar Groups"
   ]
  },
  {
   "cell_type": "markdown",
   "metadata": {},
   "source": [
    "## Aplying alorithm\n",
    "\n",
    "`Prediction`\n",
    "\n",
    "`classification`\n",
    "\n",
    "`Clustering`"
   ]
  },
  {
   "cell_type": "markdown",
   "metadata": {},
   "source": [
    "## Metrics\n",
    "`Throshold` -->  Have some metrics based on default values \n",
    "\n",
    "\n",
    "`Compare models` --> Compare models and choose which one is lesser value"
   ]
  },
  {
   "cell_type": "code",
   "execution_count": null,
   "metadata": {},
   "outputs": [],
   "source": []
  },
  {
   "cell_type": "markdown",
   "metadata": {},
   "source": [
    "## Simple linear Regression"
   ]
  },
  {
   "cell_type": "markdown",
   "metadata": {},
   "source": [
    "*`To predict(numeric)  value type prediction problems we will use Regression algorithms`*"
   ]
  },
  {
   "cell_type": "markdown",
   "metadata": {},
   "source": [
    "`Simple linear regression` is a statistical method that allows us to summarize and study relationships between two continuous (quantitative) variables: One variable, denoted x, is regarded as the predictor, explanatory, or independent variable."
   ]
  },
  {
   "cell_type": "markdown",
   "metadata": {},
   "source": [
    "### Dependent variables are depend on independent variables"
   ]
  },
  {
   "cell_type": "markdown",
   "metadata": {},
   "source": [
    "`Dependent variables:Y` -->Output variables\n",
    "\n",
    "`Independent variables:x` --> Input variables\n",
    "\n",
    "Expected value:\n",
    "\n",
    "Y^ = f(x)\n",
    "\n",
    "`Y^ = mx+c` m and c are called coefficients \n",
    "\n",
    "`m`-->slope\n",
    "\n",
    "`c`-->constant\\Y-intercept\n",
    "\n"
   ]
  },
  {
   "cell_type": "markdown",
   "metadata": {},
   "source": [
    "## `Error` = Actual value(Y) - Expected value(Y^)"
   ]
  },
  {
   "cell_type": "markdown",
   "metadata": {},
   "source": [
    "Simple Linear Regression uses Sum of Square root "
   ]
  },
  {
   "cell_type": "markdown",
   "metadata": {},
   "source": [
    "Linear relationship means if one variable changes with another variable in the same direction. Scatterplots can show whether there is a linear or curvilinear relationship."
   ]
  },
  {
   "cell_type": "markdown",
   "metadata": {},
   "source": [
    "## Contents"
   ]
  },
  {
   "cell_type": "markdown",
   "metadata": {},
   "source": [
    "- Measures of Association\n",
    "    - Covariance\n",
    "    - Correlation"
   ]
  },
  {
   "cell_type": "markdown",
   "metadata": {},
   "source": [
    "`Measures of Association:`"
   ]
  },
  {
   "cell_type": "markdown",
   "metadata": {},
   "source": [
    "### Covariance"
   ]
  },
  {
   "cell_type": "markdown",
   "metadata": {},
   "source": [
    "- `Covariance`  is a measure of the relationship between two random variables.\n",
    "- The metric evaluates how much – to what extent – the variables change together. In other words, it is essentially a measure      of the variance between two variables (note that the variance of one variable equals the variance of the other variable).\n",
    "- Measures the linear relationship between two variables.\n",
    "- Covariance can be negative or positive or zero.\n",
    "- Covariance measured in units.\n"
   ]
  },
  {
   "cell_type": "markdown",
   "metadata": {},
   "source": [
    "*`Positive covariance:` Indicates that two variables(x,Y) tend to move in the same direction.*\n",
    "\n",
    "*`Negative covariance:` Reveals that two variables(x,Y) tend to move in inverse directions.*"
   ]
  },
  {
   "cell_type": "markdown",
   "metadata": {},
   "source": [
    "- Covariance measures the total variation of two random variables from their expected values.\n",
    "- Using covariance, we can only gauge the direction of the relationship (whether the variables tend to move in tandem or show an inverse relationship). \n",
    "- However, it does not indicate the strength of the relationship, nor the dependency between the variables."
   ]
  },
  {
   "cell_type": "markdown",
   "metadata": {},
   "source": [
    "https://corporatefinanceinstitute.com/resources/knowledge/finance/covariance/"
   ]
  },
  {
   "cell_type": "markdown",
   "metadata": {},
   "source": [
    "## Correlation"
   ]
  },
  {
   "cell_type": "markdown",
   "metadata": {},
   "source": [
    "- correlation measures the strength of the relationship between variables. \n",
    "- Correlation is the scaled measure of covariance. \n",
    "- It is dimensionless.\n",
    "- In other words, the correlation coefficient is always a pure value and not measured in any units."
   ]
  },
  {
   "cell_type": "markdown",
   "metadata": {},
   "source": [
    "correlation explanantion link:\n",
    "\n",
    "http://www.tylervigen.com/spurious-correlations"
   ]
  },
  {
   "cell_type": "markdown",
   "metadata": {},
   "source": [
    "Residuals are nothing but error terms"
   ]
  },
  {
   "cell_type": "markdown",
   "metadata": {},
   "source": [
    "## Multiple Linear regression"
   ]
  },
  {
   "cell_type": "markdown",
   "metadata": {},
   "source": [
    "### Contents"
   ]
  },
  {
   "cell_type": "markdown",
   "metadata": {},
   "source": [
    "- Multiple Linear Regression\n",
    "- Assumptions of regression Analysis\n",
    "- Measures for goodness-of-it"
   ]
  },
  {
   "cell_type": "markdown",
   "metadata": {},
   "source": [
    "Multiple Linear Regression:\n",
    "- simple linear regression euqation is:\n",
    "Y = mx+c\n",
    "- Multiple linear regression:\n",
    "Y = c+m1x1+m2x2+m3x3..."
   ]
  },
  {
   "cell_type": "markdown",
   "metadata": {},
   "source": [
    "## Assumptions of regression analysis:\n",
    "- 1.`Linearity`-->There must be a linear relationship between the outcome variable and the independent variables.  Scatterplotscan show whether there is a linear or curvilinear relationship.\n",
    "    \n",
    "- 2.`Normality`-->Multivariate Normality–Multiple regression assumes that the residuals(Errors) are normally distributed.\n",
    "    \n",
    "- 3.`Obeservations are Independent:`(No Multicollinearity)—Multiple regression assumes that the independent variables are not highly correlated with each other.  This assumption is tested using Variance Inflation Factor (VIF) values.\n",
    "    \n",
    "- 4.`Homoscedasticity:`This assumption states that the variance of error terms are similar across the values of the independent variables.  A plot of standardized residuals versus predicted values can show whether points are equally distributed across all values of the independent variables."
   ]
  },
  {
   "cell_type": "markdown",
   "metadata": {},
   "source": [
    "### Coefficient of determination(R2)"
   ]
  },
  {
   "cell_type": "markdown",
   "metadata": {},
   "source": [
    "Key tings in Multiple regression:\n",
    "- R^2(Rsquare)\n",
    "- Adjusted R^2\n",
    "- F-statistics\n",
    "- P-value\n",
    "- AIC"
   ]
  },
  {
   "cell_type": "markdown",
   "metadata": {},
   "source": [
    "*Multicoliniarity:The relationship between independent variables.in that situation we need to ignore the some independent variables*"
   ]
  },
  {
   "cell_type": "code",
   "execution_count": null,
   "metadata": {},
   "outputs": [],
   "source": []
  }
 ],
 "metadata": {
  "kernelspec": {
   "display_name": "Python 3",
   "language": "python",
   "name": "python3"
  },
  "language_info": {
   "codemirror_mode": {
    "name": "ipython",
    "version": 3
   },
   "file_extension": ".py",
   "mimetype": "text/x-python",
   "name": "python",
   "nbconvert_exporter": "python",
   "pygments_lexer": "ipython3",
   "version": "3.7.3"
  }
 },
 "nbformat": 4,
 "nbformat_minor": 2
}
